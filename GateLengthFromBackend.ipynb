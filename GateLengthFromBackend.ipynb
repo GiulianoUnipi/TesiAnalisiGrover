{
 "cells": [
  {
   "cell_type": "code",
   "execution_count": 75,
   "metadata": {},
   "outputs": [],
   "source": [
    "# Built-in modules\n",
    "import math\n",
    "\n",
    "# Imports from Qiskit\n",
    "from qiskit import QuantumCircuit, transpile\n",
    "from qiskit.circuit.library import GroverOperator, MCMT, ZGate\n",
    "from qiskit.visualization import plot_distribution\n",
    "\n",
    "# Imports from Qiskit Runtime\n",
    "from qiskit_ibm_runtime import QiskitRuntimeService, Sampler, Batch\n"
   ]
  },
  {
   "cell_type": "code",
   "execution_count": 76,
   "metadata": {},
   "outputs": [],
   "source": [
    "simulazione = False\n",
    "useBackendName = True\n",
    "if(simulazione == True):\n",
    "    #USE BACKEND NAME\n",
    "    backendName = \"ibmq_qasm_simulator\"\n",
    "else:\n",
    "    backendName = \"ibm_osaka\"\n",
    "# NESSUNO DEVE SAPERE IL MIO TOKEN NON GUARDARE!!!\n",
    "myToken = \"\""
   ]
  },
  {
   "cell_type": "code",
   "execution_count": 77,
   "metadata": {},
   "outputs": [
    {
     "data": {
      "text/plain": [
       "'ibm_osaka'"
      ]
     },
     "execution_count": 77,
     "metadata": {},
     "output_type": "execute_result"
    }
   ],
   "source": [
    "service = QiskitRuntimeService(\n",
    "        channel=\"ibm_quantum\", \n",
    "        token=myToken)\n",
    "if(useBackendName == False):\n",
    "    backend = service.least_busy(operational=True, simulator=simulazione)\n",
    "else:\n",
    "    backend = service.backend(backendName)  \n",
    "backend.name\n"
   ]
  },
  {
   "cell_type": "code",
   "execution_count": 78,
   "metadata": {},
   "outputs": [
    {
     "data": {
      "text/plain": [
       "{'id': 60, 'rz': 0, 'sx': 60, 'x': 60, 'ecr': 660, 'reset': 3660}"
      ]
     },
     "execution_count": 78,
     "metadata": {},
     "output_type": "execute_result"
    }
   ],
   "source": [
    "my_dict = {}\n",
    "props = backend.properties()\n",
    "size = len(props.gates)\n",
    "for numero in range(size):\n",
    "    gateDict = props.gates[numero].to_dict()\n",
    "    for j in range(len(gateDict[\"parameters\"])):\n",
    "        if(gateDict[\"parameters\"][j][\"name\"] == \"gate_length\"):\n",
    "            my_dict[gateDict[\"gate\"]] = gateDict[\"parameters\"][j][\"value\"]\n",
    "my_dict"
   ]
  }
 ],
 "metadata": {
  "kernelspec": {
   "display_name": "Qiskit",
   "language": "python",
   "name": "python3"
  },
  "language_info": {
   "codemirror_mode": {
    "name": "ipython",
    "version": 3
   },
   "file_extension": ".py",
   "mimetype": "text/x-python",
   "name": "python",
   "nbconvert_exporter": "python",
   "pygments_lexer": "ipython3",
   "version": "3.11.7"
  }
 },
 "nbformat": 4,
 "nbformat_minor": 2
}
